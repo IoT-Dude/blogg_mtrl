{
 "cells": [
  {
   "cell_type": "markdown",
   "id": "f956325c-b4d3-4400-81a3-7c8ccbda29d9",
   "metadata": {},
   "source": [
    "Patrik Ackell Analyst 2023"
   ]
  },
  {
   "cell_type": "markdown",
   "id": "6d244ccc-c1a0-4587-8d12-2577cfd9d07c",
   "metadata": {},
   "source": [
    "# Social Exclusion in Sweden\n",
    "\n",
    "(Contribution provision full year equivalents per form of compensation)\n",
    "\n",
    "\n",
    "There is no accepted definition for calculating exclusion in Sweden, and different actors use different definitions in the debate - a measure published by Statistics Norway is the number of people who are supported by social allowances and grants.\n"
   ]
  },
  {
   "cell_type": "markdown",
   "id": "af2370cd-e7f8-4d3a-a0ee-e4445d35ed3a",
   "metadata": {},
   "source": [
    "## Contribution provision - number of full-year equivalents"
   ]
  },
  {
   "cell_type": "code",
   "execution_count": 49,
   "id": "dbd1306e-492a-4b8f-9bf7-f1f9068dab1e",
   "metadata": {},
   "outputs": [
    {
     "data": {
      "image/png": "[encoded data removed]",
      "text/plain": [
       "<Figure size 432x288 with 1 Axes>"
      ]
     },
     "metadata": {
      "needs_background": "light"
     },
     "output_type": "display_data"
    }
   ],
   "source": [
    "import matplotlib.pyplot as plt\n",
    "import numpy as np\n",
    " \n",
    "#year\n",
    "x = np.array([1990, 1991, 1992, 1993, 1994, 1995, 1996, 1997, 1998, 1999, 2000, 2001, 2002,  2003, 2004, 2005, 2006, 2007, 2008, 2009, 2010, 2011, 2012, 2013, 2014, 2015, 2016, 2017, 2018, 2019, 2020, 2021, 2022])\n",
    "\n",
    "#sickness_benefit\n",
    "y1 = np.array([43, 41, 37, 32, 29, 28, 24, 23, 28, 35, 42, 48, 51, 49, 43, 36, 33, 29, 24, 19, 16, 19, 21, 23, 26, 29, 29, 27, 26, 26, 26, 25, 27])\n",
    "\n",
    "#sickness_and_activity_allowance\n",
    "y2 = np.array([65, 65, 66, 69, 71, 71, 70, 71, 71, 71, 71, 73, 77, 77, 82, 85, 85, 84, 81, 76, 69, 61, 56, 54, 52, 51, 49, 46, 43, 43, 80, 37, 35])\n",
    "\n",
    "#unemployment\n",
    "y3 = np.array([14, 24, 45, 66, 67, 66, 65, 62, 51, 43, 41, 32, 30, 36, 41, 39, 33, 25, 17, 24, 21, 16, 16, 17, 16, 14, 13, 12, 12, 14, 21, 17, 11])\n",
    "\n",
    "#labor_market_measures \n",
    "y4 = np.array([12, 20, 25, 31, 36, 34, 37, 35, 31, 27, 21, 21, 21, 17, 19, 22, 25, 16, 15, 22, 32, 31, 32, 34, 33, 30, 29, 28, 26, 25, 29, 36, 31])\n",
    "\n",
    "#financial_assistance\n",
    "y5 = np.array([14, 15, 18, 21, 24, 23, 26, 27, 25, 22, 19, 17, 16, 15, 16, 16, 15, 14, 14, 16, 17, 18, 18, 18, 18, 17, 17, 16, 16, 16, 16, 15, 13])\n",
    "\n",
    "#establishment_allowance \n",
    "y6 = np.array([0, 0, 0, 0, 1, 1, 1, 1, 1, 1, 1, 1, 1, 1, 1, 1, 2, 3, 3, 3, 3, 2, 2, 4, 6, 7, 9, 11, 9, 6, 4, 2, 2])\n",
    "\n",
    "\n",
    "\n",
    "plt.bar(x, y1, color='orange')\n",
    "plt.bar(x, y2, bottom=y1, color='blue')\n",
    "plt.bar(x, y3, bottom=y1+y2, color='magenta')\n",
    "plt.bar(x, y4, bottom=y1+y2+y3+y4, color='yellow')\n",
    "plt.bar(x, y5, bottom=y1+y2+y3+y4+y5, color='lightblue')\n",
    "plt.bar(x, y6, bottom=y1+y2+y3+y4+y5+y6, color='green')\n",
    "\n",
    "\n",
    "plt.xlabel(\"Year\")\n",
    "plt.ylabel(\"% full-year equivalents\")\n",
    "plt.legend([\"year\", \"sickness_benefit\", \"sickness_and_activity_allowance\", \"unemployment\", \"labor_market_measures\", \"financial_assistance\", \"establishment_allowance\"])\n",
    "plt.title(\"Contribution provision % full-year equivalents\")\n",
    "\n",
    "# Legend\n",
    "plt.tight_layout(rect=[0, 0, 1.75, 1.5])\n",
    "\n",
    "# Block to get png output.\n",
    "#plt.show()\n",
    "\n",
    "# Print png to file.\n",
    "plt.savefig(\"Contribution-provision-percent-full-year-equivalents.png\")"
   ]
  },
  {
   "cell_type": "markdown",
   "id": "3216f0b9-18a2-4f28-8ca7-42e16d89bff5",
   "metadata": {},
   "source": [
    "Source: SCB Statistics Sweden\n",
    "\n",
    "Note 1: Until 2002, the information includes 16-19-year-olds. The length of the sick pay period has been changed on a couple of occasions during the period. 920101 it was introduced and was then 14 days long. Between 970101 and 980401 the employer period was 28 days and was subsequently reduced to 14 days. In 030701 it was changed to 21 days and in 050101 it was changed again to 14 days. Note 2: Including generational change compensation until the year 2000, when this measure ended. Note 3: During 2011-2016, some municipalities have lost data or submitted incomplete data for one or more months. For these municipalities Note 5: For the years 1994 to 2010, it is introduction compensation that is reported under establishment compensation. For the year 2011, the information refers to the sum of establishment compensation and introduction compensation."
   ]
  },
  {
   "cell_type": "markdown",
   "id": "8945e0fe-93dc-4d1b-84a0-8be213508c06",
   "metadata": {},
   "source": [
    "### Full-year equivalents per form of compensation\n",
    "The number of (various) full-year people in the form of compensation has decreased from a level of a maximum of 454,000 in 2006 to today's 209,000.\n",
    "As a share of the population, the form of compensation decreased from 8.5 percent to 3.5 percent in 2022. Both the share and the number of full-year equivalents are affected by the business cycle and tend to increase during recessions.\n",
    "\n",
    "Slightly more than half of today's allowances and contributions consist of sickness allowance and sickness and activity allowance.\n",
    "\n",
    "The statistics do not include people under the age of 20.\n"
   ]
  },
  {
   "cell_type": "markdown",
   "id": "57b28ce5-f361-4905-8eea-2f1b4883cac6",
   "metadata": {},
   "source": [
    "### Social exclusion a thorn in the flesh and a driver for less cohesion in society\n",
    "Skriv om fokus på social exclusion och hur det begränsar samhället"
   ]
  },
  {
   "cell_type": "markdown",
   "id": "2a5110e1-95e3-4204-a782-f3af3ae89e02",
   "metadata": {},
   "source": [
    "### The measure of full-year equivalent\n",
    "When calculating the number of people supported by grants, the measure full-year equivalents is also used. A full-year equivalent corresponds to a person who is supported by full compensation for one year. If two people are unemployed for six months each and receive full compensation, these are counted as a full year's equivalent. The measure thus shows the support burden in the compensation system and becomes easier to compare between different years."
   ]
  },
  {
   "cell_type": "markdown",
   "id": "09188aab-a698-4f8c-b701-5a2350da166b",
   "metadata": {},
   "source": [
    "Moving from benefits to work represents a significant gain for the individual and society. However, the majority of this profit does not accrue to the individual but to the state in the form of reduced costs for grants and increased tax revenue."
   ]
  },
  {
   "cell_type": "markdown",
   "id": "51b2cb3d-2c2a-4c25-bb98-fe5ba9685616",
   "metadata": {},
   "source": [
    "### At its highest in 1994\n",
    "The number and percentage of full-year equivalents was at its highest in 1994, when 22.7 percent of the population was supported by various types of grworkants. Since then, the percentage has fallen and is now at a significantly lower level."
   ]
  },
  {
   "cell_type": "markdown",
   "id": "997f8cf2-3d9c-4b5c-ac0e-5cf0d4bee00f",
   "metadata": {},
   "source": [
    "A driving factor behind the reduction can be assumed to be the tightening of the social insurance systems that took place in the latter part of the 2000s and primarily affected sickness and activity compensation.\n"
   ]
  },
  {
   "cell_type": "code",
   "execution_count": null,
   "id": "339529b6-63cd-40de-825b-1b0b55973435",
   "metadata": {},
   "outputs": [],
   "source": []
  }
 ],
 "metadata": {
  "kernelspec": {
   "display_name": "Python 3 (ipykernel)",
   "language": "python",
   "name": "python3"
  },
  "language_info": {
   "codemirror_mode": {
    "name": "ipython",
    "version": 3
   },
   "file_extension": ".py",
   "mimetype": "text/x-python",
   "name": "python",
   "nbconvert_exporter": "python",
   "pygments_lexer": "ipython3",
   "version": "3.9.7"
  }
 },
 "nbformat": 4,
 "nbformat_minor": 5
}
