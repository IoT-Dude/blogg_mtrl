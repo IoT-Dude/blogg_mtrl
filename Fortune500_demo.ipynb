{
 "cells": [
  {
   "cell_type": "markdown",
   "id": "a2ba8100-4457-420f-8eaa-4f27f4fd1ed7",
   "metadata": {},
   "source": [
    "# Fortune 500, demo av ett dataset\n",
    "<br>\n",
    "Vi undersöker hur den historiska omsättningen och vinsten har sett ut i USA med data taget från företaget Fortune 500.\n",
    "<br>\n",
    "Fortune 500 är en årlig lista sammanställd och publicerad av tidskriften Fortune som rankar 500 av de största företagen i USA efter totala intäkter för sina respektive räkenskapsår. Listan inkluderar offentliga företag, tillsammans med privatägda företag för vilka intäkter är offentligt tillgängliga.\n",
    "Mer info om Fortune 500 hittar du på Wikipedia (https://en.wikipedia.org/wiki/Fortune_500)"
   ]
  },
  {
   "cell_type": "code",
   "execution_count": 4,
   "id": "42550627-f7d5-4bba-9560-8d9494ef822b",
   "metadata": {},
   "outputs": [],
   "source": [
    "# line magic to capture Matplotlib plots and render them in the cell output. \n",
    "%matplotlib inline\n",
    "\n",
    "import pandas as pd\n",
    "import matplotlib.pyplot as plt\n",
    "import seaborn as sns \n",
    "sns.set(style=\"darkgrid\")"
   ]
  },
  {
   "cell_type": "code",
   "execution_count": 5,
   "id": "088947cf-2a93-47fc-ac72-8e7a71ea80fa",
   "metadata": {},
   "outputs": [],
   "source": [
    "# Källa för fortune500.csv kan hämtas som csv-fil från https://s3.amazonaws.com/dq-blog-files/fortune500.csv\n",
    "df = pd.read_csv('fortune500.csv')"
   ]
  },
  {
   "cell_type": "markdown",
   "id": "08e14662-0a4d-4543-90c5-2eddb912bd42",
   "metadata": {},
   "source": [
    "Kolla innehåll och kvalitet på datan"
   ]
  },
  {
   "cell_type": "code",
   "execution_count": 6,
   "id": "2d1f17c9-ea8b-41a5-83cd-b05e2ab77fc9",
   "metadata": {},
   "outputs": [
    {
     "data": {
      "text/html": [
       "<div>\n",
       "<style scoped>\n",
       "    .dataframe tbody tr th:only-of-type {\n",
       "        vertical-align: middle;\n",
       "    }\n",
       "\n",
       "    .dataframe tbody tr th {\n",
       "        vertical-align: top;\n",
       "    }\n",
       "\n",
       "    .dataframe thead th {\n",
       "        text-align: right;\n",
       "    }\n",
       "</style>\n",
       "<table border=\"1\" class=\"dataframe\">\n",
       "  <thead>\n",
       "    <tr style=\"text-align: right;\">\n",
       "      <th></th>\n",
       "      <th>Year</th>\n",
       "      <th>Rank</th>\n",
       "      <th>Company</th>\n",
       "      <th>Revenue (in millions)</th>\n",
       "      <th>Profit (in millions)</th>\n",
       "    </tr>\n",
       "  </thead>\n",
       "  <tbody>\n",
       "    <tr>\n",
       "      <th>0</th>\n",
       "      <td>1955</td>\n",
       "      <td>1</td>\n",
       "      <td>General Motors</td>\n",
       "      <td>9823.5</td>\n",
       "      <td>806</td>\n",
       "    </tr>\n",
       "    <tr>\n",
       "      <th>1</th>\n",
       "      <td>1955</td>\n",
       "      <td>2</td>\n",
       "      <td>Exxon Mobil</td>\n",
       "      <td>5661.4</td>\n",
       "      <td>584.8</td>\n",
       "    </tr>\n",
       "    <tr>\n",
       "      <th>2</th>\n",
       "      <td>1955</td>\n",
       "      <td>3</td>\n",
       "      <td>U.S. Steel</td>\n",
       "      <td>3250.4</td>\n",
       "      <td>195.4</td>\n",
       "    </tr>\n",
       "    <tr>\n",
       "      <th>3</th>\n",
       "      <td>1955</td>\n",
       "      <td>4</td>\n",
       "      <td>General Electric</td>\n",
       "      <td>2959.1</td>\n",
       "      <td>212.6</td>\n",
       "    </tr>\n",
       "    <tr>\n",
       "      <th>4</th>\n",
       "      <td>1955</td>\n",
       "      <td>5</td>\n",
       "      <td>Esmark</td>\n",
       "      <td>2510.8</td>\n",
       "      <td>19.1</td>\n",
       "    </tr>\n",
       "  </tbody>\n",
       "</table>\n",
       "</div>"
      ],
      "text/plain": [
       "   Year  Rank           Company  Revenue (in millions) Profit (in millions)\n",
       "0  1955     1    General Motors                 9823.5                  806\n",
       "1  1955     2       Exxon Mobil                 5661.4                584.8\n",
       "2  1955     3        U.S. Steel                 3250.4                195.4\n",
       "3  1955     4  General Electric                 2959.1                212.6\n",
       "4  1955     5            Esmark                 2510.8                 19.1"
      ]
     },
     "execution_count": 6,
     "metadata": {},
     "output_type": "execute_result"
    }
   ],
   "source": [
    "df.head()"
   ]
  },
  {
   "cell_type": "code",
   "execution_count": 7,
   "id": "b0b76def-b075-40d3-a29d-1aeac4f48df5",
   "metadata": {},
   "outputs": [
    {
     "data": {
      "text/html": [
       "<div>\n",
       "<style scoped>\n",
       "    .dataframe tbody tr th:only-of-type {\n",
       "        vertical-align: middle;\n",
       "    }\n",
       "\n",
       "    .dataframe tbody tr th {\n",
       "        vertical-align: top;\n",
       "    }\n",
       "\n",
       "    .dataframe thead th {\n",
       "        text-align: right;\n",
       "    }\n",
       "</style>\n",
       "<table border=\"1\" class=\"dataframe\">\n",
       "  <thead>\n",
       "    <tr style=\"text-align: right;\">\n",
       "      <th></th>\n",
       "      <th>Year</th>\n",
       "      <th>Rank</th>\n",
       "      <th>Company</th>\n",
       "      <th>Revenue (in millions)</th>\n",
       "      <th>Profit (in millions)</th>\n",
       "    </tr>\n",
       "  </thead>\n",
       "  <tbody>\n",
       "    <tr>\n",
       "      <th>25495</th>\n",
       "      <td>2005</td>\n",
       "      <td>496</td>\n",
       "      <td>Wm. Wrigley Jr.</td>\n",
       "      <td>3648.6</td>\n",
       "      <td>493</td>\n",
       "    </tr>\n",
       "    <tr>\n",
       "      <th>25496</th>\n",
       "      <td>2005</td>\n",
       "      <td>497</td>\n",
       "      <td>Peabody Energy</td>\n",
       "      <td>3631.6</td>\n",
       "      <td>175.4</td>\n",
       "    </tr>\n",
       "    <tr>\n",
       "      <th>25497</th>\n",
       "      <td>2005</td>\n",
       "      <td>498</td>\n",
       "      <td>Wendy's International</td>\n",
       "      <td>3630.4</td>\n",
       "      <td>57.8</td>\n",
       "    </tr>\n",
       "    <tr>\n",
       "      <th>25498</th>\n",
       "      <td>2005</td>\n",
       "      <td>499</td>\n",
       "      <td>Kindred Healthcare</td>\n",
       "      <td>3616.6</td>\n",
       "      <td>70.6</td>\n",
       "    </tr>\n",
       "    <tr>\n",
       "      <th>25499</th>\n",
       "      <td>2005</td>\n",
       "      <td>500</td>\n",
       "      <td>Cincinnati Financial</td>\n",
       "      <td>3614.0</td>\n",
       "      <td>584</td>\n",
       "    </tr>\n",
       "  </tbody>\n",
       "</table>\n",
       "</div>"
      ],
      "text/plain": [
       "       Year  Rank                Company  Revenue (in millions)  \\\n",
       "25495  2005   496        Wm. Wrigley Jr.                 3648.6   \n",
       "25496  2005   497         Peabody Energy                 3631.6   \n",
       "25497  2005   498  Wendy's International                 3630.4   \n",
       "25498  2005   499     Kindred Healthcare                 3616.6   \n",
       "25499  2005   500   Cincinnati Financial                 3614.0   \n",
       "\n",
       "      Profit (in millions)  \n",
       "25495                  493  \n",
       "25496                175.4  \n",
       "25497                 57.8  \n",
       "25498                 70.6  \n",
       "25499                  584  "
      ]
     },
     "execution_count": 7,
     "metadata": {},
     "output_type": "execute_result"
    }
   ],
   "source": [
    "df.tail()"
   ]
  },
  {
   "cell_type": "markdown",
   "id": "0a1e7863-cec8-433c-9c51-bde9903c8af6",
   "metadata": {},
   "source": [
    "### Wrangling"
   ]
  },
  {
   "cell_type": "code",
   "execution_count": 8,
   "id": "c1f87935-6eb3-475d-926e-4c0dc64528fc",
   "metadata": {},
   "outputs": [],
   "source": [
    "# Renaming columns later reference.\n",
    "df.columns = ['year', 'rank', 'company', 'revenue', 'profit']"
   ]
  },
  {
   "cell_type": "code",
   "execution_count": 9,
   "id": "33b87d66-837c-4eb4-b7c6-e3e7f5c45c43",
   "metadata": {},
   "outputs": [
    {
     "data": {
      "text/plain": [
       "25500"
      ]
     },
     "execution_count": 9,
     "metadata": {},
     "output_type": "execute_result"
    }
   ],
   "source": [
    "len(df)"
   ]
  },
  {
   "cell_type": "code",
   "execution_count": 10,
   "id": "a4515a04-7f10-4bb9-9461-704657535ef3",
   "metadata": {},
   "outputs": [
    {
     "data": {
      "text/plain": [
       "year         int64\n",
       "rank         int64\n",
       "company     object\n",
       "revenue    float64\n",
       "profit      object\n",
       "dtype: object"
      ]
     },
     "execution_count": 10,
     "metadata": {},
     "output_type": "execute_result"
    }
   ],
   "source": [
    "df.dtypes"
   ]
  },
  {
   "cell_type": "code",
   "execution_count": 11,
   "id": "ba89fdd6-326c-4387-bafd-d09d31866c09",
   "metadata": {},
   "outputs": [
    {
     "data": {
      "text/html": [
       "<div>\n",
       "<style scoped>\n",
       "    .dataframe tbody tr th:only-of-type {\n",
       "        vertical-align: middle;\n",
       "    }\n",
       "\n",
       "    .dataframe tbody tr th {\n",
       "        vertical-align: top;\n",
       "    }\n",
       "\n",
       "    .dataframe thead th {\n",
       "        text-align: right;\n",
       "    }\n",
       "</style>\n",
       "<table border=\"1\" class=\"dataframe\">\n",
       "  <thead>\n",
       "    <tr style=\"text-align: right;\">\n",
       "      <th></th>\n",
       "      <th>year</th>\n",
       "      <th>rank</th>\n",
       "      <th>company</th>\n",
       "      <th>revenue</th>\n",
       "      <th>profit</th>\n",
       "    </tr>\n",
       "  </thead>\n",
       "  <tbody>\n",
       "    <tr>\n",
       "      <th>228</th>\n",
       "      <td>1955</td>\n",
       "      <td>229</td>\n",
       "      <td>Norton</td>\n",
       "      <td>135.0</td>\n",
       "      <td>N.A.</td>\n",
       "    </tr>\n",
       "    <tr>\n",
       "      <th>290</th>\n",
       "      <td>1955</td>\n",
       "      <td>291</td>\n",
       "      <td>Schlitz Brewing</td>\n",
       "      <td>100.0</td>\n",
       "      <td>N.A.</td>\n",
       "    </tr>\n",
       "    <tr>\n",
       "      <th>294</th>\n",
       "      <td>1955</td>\n",
       "      <td>295</td>\n",
       "      <td>Pacific Vegetable Oil</td>\n",
       "      <td>97.9</td>\n",
       "      <td>N.A.</td>\n",
       "    </tr>\n",
       "    <tr>\n",
       "      <th>296</th>\n",
       "      <td>1955</td>\n",
       "      <td>297</td>\n",
       "      <td>Liebmann Breweries</td>\n",
       "      <td>96.0</td>\n",
       "      <td>N.A.</td>\n",
       "    </tr>\n",
       "    <tr>\n",
       "      <th>352</th>\n",
       "      <td>1955</td>\n",
       "      <td>353</td>\n",
       "      <td>Minneapolis-Moline</td>\n",
       "      <td>77.4</td>\n",
       "      <td>N.A.</td>\n",
       "    </tr>\n",
       "  </tbody>\n",
       "</table>\n",
       "</div>"
      ],
      "text/plain": [
       "     year  rank                company  revenue profit\n",
       "228  1955   229                 Norton    135.0   N.A.\n",
       "290  1955   291        Schlitz Brewing    100.0   N.A.\n",
       "294  1955   295  Pacific Vegetable Oil     97.9   N.A.\n",
       "296  1955   297     Liebmann Breweries     96.0   N.A.\n",
       "352  1955   353     Minneapolis-Moline     77.4   N.A."
      ]
     },
     "execution_count": 11,
     "metadata": {},
     "output_type": "execute_result"
    }
   ],
   "source": [
    "# Q: How cohesive is the dataset? dtypes is object instead of float64.\n",
    "# Q: profit must be int or preferably float - what does it look like?\n",
    "# Using regexpr, Show everything except numbers 0-9.\n",
    "non_numberic_profits = df.profit.str.contains('[^0-9.-]')\n",
    "df.loc[non_numberic_profits].head()"
   ]
  },
  {
   "cell_type": "code",
   "execution_count": 12,
   "id": "57bbef7a-5204-4d2d-863d-851f1abfd3b3",
   "metadata": {},
   "outputs": [
    {
     "data": {
      "text/plain": [
       "{'N.A.'}"
      ]
     },
     "execution_count": 12,
     "metadata": {},
     "output_type": "execute_result"
    }
   ],
   "source": [
    "set(df.profit[non_numberic_profits])"
   ]
  },
  {
   "cell_type": "code",
   "execution_count": 13,
   "id": "bd4ba0bb-8fff-4255-adf6-e8cd52ecd381",
   "metadata": {},
   "outputs": [
    {
     "data": {
      "text/plain": [
       "369"
      ]
     },
     "execution_count": 13,
     "metadata": {},
     "output_type": "execute_result"
    }
   ],
   "source": [
    "# OK, only 'N.A.' above - no other fuzz.\n",
    "# Q: How many values are missing?\n",
    "len(df.profit[non_numberic_profits])"
   ]
  },
  {
   "cell_type": "markdown",
   "id": "bdc944fc-e69b-47ef-9321-b9021a87bfcb",
   "metadata": {},
   "source": [
    "Quality comment:\n",
    "369 Is a small fraction of the data set. Not completely inconsequential but around 1.5%.\n",
    "If N.A. are roughly uniformly distributed over the years, the easiest solution would be to remove them\n",
    "\n",
    "<br>\n",
    "Q: How is the distribution of fuzz values?"
   ]
  },
  {
   "cell_type": "code",
   "execution_count": 14,
   "id": "f868afca-f59d-4b21-9375-0453eb026290",
   "metadata": {
    "tags": []
   },
   "outputs": [
    {
     "data": {
      "image/png": "[encoded data removed]",
      "text/plain": [
       "<Figure size 432x288 with 1 Axes>"
      ]
     },
     "metadata": {},
     "output_type": "display_data"
    }
   ],
   "source": [
    "bin_sizes, _, _ = plt.hist(df.year[non_numberic_profits], bins=range(1955, 2006))"
   ]
  },
  {
   "cell_type": "markdown",
   "id": "e1e11c2c-ec99-4c5d-bf0d-1b1df6b3550f",
   "metadata": {},
   "source": [
    "A: Distribution: is\n",
    "The most invalid values in a single year is fewer than 25, and there are 500 data points per year, so removing these values would account for less than 4% of the data for the worst years.\n",
    "the missing values has a peak in the 1990's but for this purposes it is acceptable to just remove these rows."
   ]
  },
  {
   "cell_type": "code",
   "execution_count": 15,
   "id": "179695cd-d5a2-481b-a41e-fe27b29f2841",
   "metadata": {},
   "outputs": [],
   "source": [
    "df = df.loc[~non_numberic_profits]\n",
    "df.profit = df.profit.apply(pd.to_numeric)"
   ]
  },
  {
   "cell_type": "code",
   "execution_count": 16,
   "id": "61030e4e-e9ba-4e5c-9015-9bc732acf2cd",
   "metadata": {},
   "outputs": [
    {
     "data": {
      "text/plain": [
       "25131"
      ]
     },
     "execution_count": 16,
     "metadata": {},
     "output_type": "execute_result"
    }
   ],
   "source": [
    "len(df)"
   ]
  },
  {
   "cell_type": "code",
   "execution_count": 17,
   "id": "4cd9843c-cc9e-4aa7-aea8-ea87d3b6ddd0",
   "metadata": {},
   "outputs": [
    {
     "data": {
      "text/plain": [
       "year         int64\n",
       "rank         int64\n",
       "company     object\n",
       "revenue    float64\n",
       "profit     float64\n",
       "dtype: object"
      ]
     },
     "execution_count": 17,
     "metadata": {},
     "output_type": "execute_result"
    }
   ],
   "source": [
    "df.dtypes"
   ]
  },
  {
   "cell_type": "markdown",
   "id": "810c39eb-c792-47f0-8552-f4936981f926",
   "metadata": {},
   "source": [
    "<br>\n",
    "Quality is OK:<br>\n",
    "25151 datapoints and profit is now float64"
   ]
  },
  {
   "cell_type": "markdown",
   "id": "630317c4-adfe-448d-8b04-66731973c254",
   "metadata": {},
   "source": [
    "### Plotting med matplotlib"
   ]
  },
  {
   "cell_type": "code",
   "execution_count": 18,
   "id": "a4a8f94b-e0ce-4bec-bb73-321bcb912f40",
   "metadata": {},
   "outputs": [],
   "source": [
    "group_by_year = df.loc[:, ['year', 'revenue', 'profit']].groupby('year')\n",
    "avgs = group_by_year.mean()\n",
    "x = avgs.index\n",
    "y1 = avgs.profit\n",
    "def plot(x, y, ax, title, y_label):\n",
    "    ax.set_title(title)\n",
    "    ax.set_ylabel(y_label)\n",
    "    ax.plot(x, y)\n",
    "    ax.margins(x=0, y=0)"
   ]
  },
  {
   "cell_type": "markdown",
   "id": "77638fc3-ece7-40a2-8021-0162be2788ec",
   "metadata": {},
   "source": [
    "### Vinst 1955 till 2005"
   ]
  },
  {
   "cell_type": "code",
   "execution_count": 19,
   "id": "90378846-fdb8-46e3-984b-78debc4a4e7e",
   "metadata": {},
   "outputs": [
    {
     "data": {
      "image/png": "[encoded data removed]",
      "text/plain": [
       "<Figure size 432x288 with 1 Axes>"
      ]
     },
     "metadata": {},
     "output_type": "display_data"
    }
   ],
   "source": [
    "fig, ax = plt.subplots()\n",
    "plot(x, y1, ax, 'Genomsnittlig vinst (profit) i Fortune 500 företag från 1955 to 2005', 'Vinst (millions)')"
   ]
  },
  {
   "cell_type": "markdown",
   "id": "34d32789-f18c-462c-a8c0-fe2893495f9d",
   "metadata": {},
   "source": [
    "Vi ser att dengenomsnittliga vinsten ser ut som en exponentiell funktion, rejäl hicka med några stora nedgångar. \n",
    "<br>\n",
    "De motsvarar lågkonjunkturen som fanns i början på 1990-talet och dotcom-bubblan åren efter millenieskiftet.\n",
    "<br>\n",
    "\n",
    "Q: Men hur kommer det sig att vinsterna återhämtade sig till ännu högre nivåer efter varje lågkonjunktur?\n",
    "S: Kanske kan intäkterna berätta mer."
   ]
  },
  {
   "cell_type": "markdown",
   "id": "4bd97e5d-9fdc-406c-a5b9-2d113befa41c",
   "metadata": {},
   "source": [
    "### Intäkter 1955 till 2005"
   ]
  },
  {
   "cell_type": "code",
   "execution_count": 22,
   "id": "652a02c6-e911-44be-a67e-80a4fb7e5eb9",
   "metadata": {},
   "outputs": [
    {
     "data": {
      "image/png": "[encoded data removed]",
      "text/plain": [
       "<Figure size 432x288 with 1 Axes>"
      ]
     },
     "metadata": {},
     "output_type": "display_data"
    }
   ],
   "source": [
    "y2 = avgs.revenue\n",
    "fig, ax = plt.subplots()\n",
    "#plot(x, y2, ax, 'Increase in mean Fortune 500 company revenues from 1955 to 2005', 'Revenue (millions)')\n",
    "plot(x, y2, ax, 'Genomsnittliga intäkter (revenue) i Fortune 500 företag från 1955 to 2005', 'Intäkter (millions)')"
   ]
  },
  {
   "cell_type": "markdown",
   "id": "f1c17d87-371f-430c-a51c-887d99503b62",
   "metadata": {},
   "source": [
    "### Intäkter i detalj"
   ]
  },
  {
   "cell_type": "markdown",
   "id": "86c59eae-fec7-4526-a087-3203b58955f6",
   "metadata": {},
   "source": [
    "Historiskt kan vi fortfarande se hack i intäktena - men itäkterna drabbades inte lika hårt.\n",
    "<br>\n",
    "Vi koller på en plott med +/- standardavvikelser för att få ett mer tydligt scenario."
   ]
  },
  {
   "cell_type": "code",
   "execution_count": 24,
   "id": "421a7f21-85f6-4244-a919-69c02f536e0c",
   "metadata": {},
   "outputs": [
    {
     "data": {
      "image/png": "[encoded data removed]",
      "text/plain": [
       "<Figure size 1008x288 with 2 Axes>"
      ]
     },
     "metadata": {},
     "output_type": "display_data"
    }
   ],
   "source": [
    "\n",
    "def plot_with_std(x, y, stds, ax, title, y_label):\n",
    "    ax.fill_between(x, y - stds, y + stds, alpha=0.2)    # fill_between är skuggan.\n",
    "    plot(x, y, ax, title, y_label)\n",
    "fig, (ax1, ax2) = plt.subplots(ncols=2)\n",
    "title = 'Increase in mean and std Fortune 500 company %s from 1955 to 2005'\n",
    "stds1 = group_by_year.std().profit.values\n",
    "stds2 = group_by_year.std().revenue.values\n",
    "plot_with_std(x, y1.values, stds1, ax1, title % 'Vinst', 'Vinst (millions)')\n",
    "plot_with_std(x, y2.values, stds2, ax2, title % 'Intäkt', 'Intäkt (millions)')\n",
    "fig.set_size_inches(14, 4)\n",
    "fig.tight_layout()"
   ]
  },
  {
   "cell_type": "markdown",
   "id": "eaf28b7b-97df-4570-afba-ee690c273936",
   "metadata": {},
   "source": [
    "Det är stora standardavvikelser.\n",
    "<br>\n",
    "Vi ser ertt stort spann där vissa Fortune 500-företag tjänar miljarder medan andra förlorar miljarder, och vi ser också att risken att gå +/- har har ökat, samtidigt som vinsterna  har ökat under åren.\n",
    "\n",
    "Q: Varför är det på detta sätt?\n",
    "R: Kanske presterar vissa företag bättre än andra; är vinsterna för de översta 10 % mer eller mindre flyktiga än de lägsta 10 %?\n",
    "\n",
    "Detta är något man kan titta."
   ]
  },
  {
   "cell_type": "markdown",
   "id": "b129fd34-6ff4-46d7-8674-cbc78561a440",
   "metadata": {},
   "source": [
    "Vinst och intäkt wikipedia (länka)\n"
   ]
  },
  {
   "cell_type": "code",
   "execution_count": null,
   "id": "b14d86fe-95ec-45df-83d8-869b9dcc2943",
   "metadata": {},
   "outputs": [],
   "source": []
  }
 ],
 "metadata": {
  "kernelspec": {
   "display_name": "Python 3 (ipykernel)",
   "language": "python",
   "name": "python3"
  },
  "language_info": {
   "codemirror_mode": {
    "name": "ipython",
    "version": 3
   },
   "file_extension": ".py",
   "mimetype": "text/x-python",
   "name": "python",
   "nbconvert_exporter": "python",
   "pygments_lexer": "ipython3",
   "version": "3.9.7"
  }
 },
 "nbformat": 4,
 "nbformat_minor": 5
}
