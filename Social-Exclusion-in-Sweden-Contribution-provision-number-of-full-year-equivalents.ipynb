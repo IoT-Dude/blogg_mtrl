{
 "cells": [
  {
   "cell_type": "markdown",
   "id": "f956325c-b4d3-4400-81a3-7c8ccbda29d9",
   "metadata": {},
   "source": [
    "Patrik Ackell Analyst 2023"
   ]
  },
  {
   "cell_type": "markdown",
   "id": "6d244ccc-c1a0-4587-8d12-2577cfd9d07c",
   "metadata": {},
   "source": [
    "# Social Exclusion in Sweden\n",
    "## (Contribution provision - number of full-year equivalents)"
   ]
  },
  {
   "cell_type": "markdown",
   "id": "7b1e3413-c57f-4a72-a48a-06a4b509ff45",
   "metadata": {},
   "source": [
    "#### Social Exclusion in Sweden\n",
    "[Social Exclusion Wikipedia](https://en.wikipedia.org/wiki/Social_exclusion)\n",
    "<br>\n",
    "There is no accepted definition for calculating exclusion in Sweden, and different actors use different definitions in the debate - a measure published by Statistics Norway is the number of people who are supported by social allowances and grants."
   ]
  },
  {
   "cell_type": "markdown",
   "id": "af2370cd-e7f8-4d3a-a0ee-e4445d35ed3a",
   "metadata": {},
   "source": [
    "## Contribution provision - number of full-year equivalents"
   ]
  },
  {
   "cell_type": "code",
   "execution_count": 6,
   "id": "f9abb9e8-9c5e-4090-93b1-860cede2f650",
   "metadata": {},
   "outputs": [
    {
     "data": {
      "image/png": "[encoded data removed]",
      "text/plain": [
       "<Figure size 432x288 with 1 Axes>"
      ]
     },
     "metadata": {
      "needs_background": "light"
     },
     "output_type": "display_data"
    }
   ],
   "source": [
    "import matplotlib.pyplot as plt\n",
    "import numpy as np\n",
    "\n",
    "#Source: SCB Statistics Sweden https://scb.se/\n",
    "# https://scb.se/vara-tjanster/oppna-data/api-for-statistikdatabasen/\n",
    "x = np.array([1990, 1991, 1992, 1993, 1994, 1995, 1996, 1997, 1998, 1999, 2000, 2001, 2002, 2003, 2004, 2005, 2006, 2007, 2008, 2009, 2010, 2011, 2012, 2013, 2014, 2015, 2016, 2017, 2018, 2019, 2020, 2021, 2022]) \n",
    "y = np.array([732236, 816587, 954303, 1112473, 1157544, 1138715, 1139350, 1123599, 1066120, 1030282, 1019237, 1008701, 1040398, 1037802, 1071227, 1063766, 1031699, 918221, 839612, 878231, 871535, 808899, 809536, 838861, 840665, 837790, 827051,807949,775329, 745272, 790242, 784018, 708249])\n",
    "\n",
    "plt.title(\"Contribution provision - full-year equivalents\")\n",
    "plt.xlabel(\"Number of full-year equivalents\")\n",
    "plt.ylabel(\"year\")\n",
    "\n",
    "plt.bar(x,y)\n",
    "plt.grid(axis = 'y')\n",
    "\n",
    "# Block to get png output.\n",
    "#plt.show()\n",
    "\n",
    "# Print png to file.\n",
    "plt.savefig(\"Contribution-provision-full-year-equivalents\")"
   ]
  },
  {
   "cell_type": "markdown",
   "id": "3216f0b9-18a2-4f28-8ca7-42e16d89bff5",
   "metadata": {},
   "source": [
    "Source: SCB Statistics Sweden\n",
    "\n",
    "<i>Note 1: Up to and including 2002, the information includes 16-19-year-olds with sickness benefit or sickness and activity support. Note 2: In 2000, the generational change allowance ceased. Note 3: From 2011 onwards, some municipalities have missing data, or provided incomplete data, for the number of people with financial assistance for one or more months. For these municipalities, the last known information is used. See scb.se for more information. Note 4: The length of the period that the employer pays sick pay has changed on a couple of occasions. In 1992, the employer period within sickness benefit insurance was introduced and was then 14 days long. Between 1997 and 1998 it was 28 days and was subsequently reduced to 14 days. In 2003 it was changed to 21 days and in 2005 it was changed again to 14 days. Note 5: For the years 1994 to 2010, it is introduction compensation that is reported under establishment compensation. For the year 2011, the information refers to the sum of establishment compensation and introduction compensation.</i>\n"
   ]
  },
  {
   "cell_type": "markdown",
   "id": "8945e0fe-93dc-4d1b-84a0-8be213508c06",
   "metadata": {},
   "source": [
    "### Full-year equivalents per form of compensation\n",
    "In 2022, there were 708,249 full-year people between the ages of 20-64 who were supported by grants. Contributions here include sickness benefit, sickness and activity compensation (formerly called early retirement), compensation in the event of unemployment, labor market measures, financial assistance and establishment compensation. Close to 12 percent of the population aged 20-64 was thus estimated to be supported by various social allowances and grants."
   ]
  },
  {
   "cell_type": "markdown",
   "id": "2a5110e1-95e3-4204-a782-f3af3ae89e02",
   "metadata": {},
   "source": [
    "When calculating the number of people supported by grants, the measure full-year equivalents is used. A full-year equivalent corresponds to a person who is supported by full compensation for one year. If two people are unemployed for six months each and receive full compensation, these are counted as a full year's equivalent. The measure thus shows the support burden in the compensation system and becomes easier to compare between different years."
   ]
  },
  {
   "cell_type": "markdown",
   "id": "09188aab-a698-4f8c-b701-5a2350da166b",
   "metadata": {},
   "source": [
    "Moving from benefits to work represents a significant gain for the individual and society. However, the majority of this profit does not accrue to the individual but to the state in the form of reduced costs for grants and increased tax revenue."
   ]
  },
  {
   "cell_type": "markdown",
   "id": "51b2cb3d-2c2a-4c25-bb98-fe5ba9685616",
   "metadata": {},
   "source": [
    "### At its highest in 1994\n",
    "The number and percentage of full-year equivalents was at its highest in 1994, when 22.7 percent of the population was supported by various types of grworkants. Since then, the percentage has fallen and is now at a significantly lower level."
   ]
  },
  {
   "cell_type": "markdown",
   "id": "997f8cf2-3d9c-4b5c-ac0e-5cf0d4bee00f",
   "metadata": {},
   "source": [
    "A driving factor behind the reduction can be assumed to be the tightening of the social insurance systems that took place in the latter part of the 2000s and primarily affected sickness and activity compensation.\n"
   ]
  },
  {
   "cell_type": "code",
   "execution_count": null,
   "id": "339529b6-63cd-40de-825b-1b0b55973435",
   "metadata": {},
   "outputs": [],
   "source": []
  }
 ],
 "metadata": {
  "kernelspec": {
   "display_name": "Python 3 (ipykernel)",
   "language": "python",
   "name": "python3"
  },
  "language_info": {
   "codemirror_mode": {
    "name": "ipython",
    "version": 3
   },
   "file_extension": ".py",
   "mimetype": "text/x-python",
   "name": "python",
   "nbconvert_exporter": "python",
   "pygments_lexer": "ipython3",
   "version": "3.9.7"
  }
 },
 "nbformat": 4,
 "nbformat_minor": 5
}
