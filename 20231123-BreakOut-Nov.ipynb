{
 "cells": [
  {
   "cell_type": "markdown",
   "id": "ed579814-0c4b-4760-bad3-7f4ab42880da",
   "metadata": {},
   "source": [
    "# Sveriges inflation 2020 - 2023 (Nytt: Nov 14 data)"
   ]
  },
  {
   "cell_type": "markdown",
   "id": "eda3cc91-1b3f-44dd-a0dc-796b32b1226a",
   "metadata": {},
   "source": [
    "### (Inflationstakten i Sverige mätt som KPIF)\n",
    "\n",
    "Analys: Patrik Ackell"
   ]
  },
  {
   "cell_type": "markdown",
   "id": "f8223448-7cfe-4d06-860d-00c03fd994e6",
   "metadata": {},
   "source": [
    "Version 1\n",
    "<br>\n",
    "20231115"
   ]
  },
  {
   "cell_type": "markdown",
   "id": "b828db30-bb7c-439b-b2fc-779be4ec3c7d",
   "metadata": {},
   "source": [
    "Källor:\n",
    "<br>\n",
    "[SCB](https://www.scb.se/dokumentation/)\n",
    "<br>\n",
    "[Morning star](https://www.morningstar.se/se/tools/default.aspx)"
   ]
  },
  {
   "cell_type": "markdown",
   "id": "5fa6432b-6c3b-40c1-96ae-58c2bd239bed",
   "metadata": {},
   "source": [
    "## Inflationen lägre än väntat i oktober\n",
    "\n",
    "Ny information i november gällande inflationen i oktober: att inflationen är lägre än väntat i oktober är goda nyheter visar nya siffror från Statistiska centralbyrån, SCB. \n",
    "<br>\n",
    "Inflationen KPIF (konsumentprisindex med fast ränta) i oktober 2023 steg till 4,2 procent. I september var inflationstakten fyra procent. Enligt SCB beror ökningen från september till oktober med 0.2 procent främst på höjda räntor och en mindre höjning av elpriset. Det har även skett en prisökning på rekreation och kultur. Prisökningen motverkades dock av lägre priser på drivmedel."
   ]
  },
  {
   "cell_type": "markdown",
   "id": "52f46782-1f1e-4bd8-8789-6bfc89935fc4",
   "metadata": {
    "tags": []
   },
   "source": [
    "## Inflationens påverkan på matbutikernas varor - en bra nyhet\n",
    "Det som intresserar mig är hur matpriserna har ändrats under åren som gått mellan 2020 och 2023. \n",
    "<br>\n",
    "Enligt statistik från SCB har inflationen (mätt som KPIF) påverkats av de höga elpriserna - detta var den främsta orsaken till att inflationstakten ökade mellan 2020 och 2023.\n",
    "<br>\n",
    "Den svenska prisökningstakten föll kraftigt i augusti 2023, detta framför allt kopplat till betydligt lägre energipriser jämfört med 2022.\n"
   ]
  },
  {
   "cell_type": "markdown",
   "id": "8fde2782-182d-49ca-84f9-66af392cd852",
   "metadata": {},
   "source": [
    "Och månadens ökning med 0,2 procentenheter ska ses som en bra nyhet. Siffran jämförs med samma period förra året och då sänktes energipriserna tillfälligt, vilket påverkade inflationstakten.\n",
    "<br>\n",
    "Inflationstakten enligt KPI var 6,5 procent i oktober 2023, vilket den också var i september.\n",
    "<br>\n",
    "Intressant är att månadsförändringen från september till oktober var 0,2 procent enligt KPI och inflationstakten enligt KPIF (Konsumentprisindex med fast ränta) var 4,2 procent i oktober."
   ]
  },
  {
   "cell_type": "markdown",
   "id": "879b1a32-f798-4f7f-8dc8-612b5e393567",
   "metadata": {},
   "source": [
    "## Uppdatering efter SCB:s rapport den 14: November 2023"
   ]
  },
  {
   "cell_type": "markdown",
   "id": "15d6ff7c-c99c-4062-86a1-583281c4e391",
   "metadata": {},
   "source": [
    "Inflationstakt enligt KPIF var 4,2 % under referenstiden oktober 2023 (jämfört med samma period 2022)\n",
    "\n",
    "\n",
    "Vad innebär detta för konsumenter gällande riksbankens kommande beslut om eventuellt räntehöjning?\n",
    "<br>\n",
    "Många prognoser har pekat på att inflationssiffrorna skulle varit lite högre i oktober än vad det nu visat sig vara. De här inflationsnivåerna ligger mer i Riksbankens prognos från i september"
   ]
  },
  {
   "cell_type": "markdown",
   "id": "db1809fb-ee10-4411-b351-fa181a179789",
   "metadata": {},
   "source": [
    "## Sjunkande elpriser påverkar\n",
    "\n",
    "”Den oförändrade inflationstakten kan till stor del förklaras av att sjunkande elpriser inte bidrar lika mycket som tidigare”, säger Caroline Neander, prisstatistiker på SCB."
   ]
  },
  {
   "cell_type": "code",
   "execution_count": 3,
   "id": "1baff494-62d4-4e4e-aa80-8882988af42f",
   "metadata": {},
   "outputs": [
    {
     "data": {
      "image/png": "[encoded data removed]",
      "text/plain": [
       "<Figure size 720x432 with 1 Axes>"
      ]
     },
     "metadata": {
      "needs_background": "light"
     },
     "output_type": "display_data"
    }
   ],
   "source": [
    "# Sveriges inflation sedan 2020 i KPIF    \n",
    "# Oktober 2023 tillagd.\n",
    "\n",
    "import matplotlib.pyplot as plt \n",
    "from matplotlib.figure import Figure \n",
    "import numpy as np \n",
    "\n",
    "fig = plt.figure(figsize =(7, 6)) \n",
    "ax = fig.add_axes([0.1, 0.1, 0.8, 0.8]) \n",
    "\n",
    "x = np.array(['Jan 20 ', 'Maj 20 ', 'Sep 20 ', 'Jan 21 ', 'Maj 21 ', 'Sep 21 ', 'Jan 22 ', 'Maj 22 ', 'Sep 22 ', 'Jan 23 ', 'Maj 23 ', 'Sep 23 ', 'Okt 23'])\n",
    "y = np.array([1.2, 0.0, 0.3, 1.7, 2.1, 2.8, 3.9, 7.2,9.7, 9.3, 6.7, 4.0, 4.2])\n",
    "\n",
    "ax.plot(x, y) \n",
    "\n",
    "fig.suptitle(\"Sveriges inflation sedan 2020 i KPIF, Oktober 2023 tillagd\\n\\n\", fontweight =\"bold\") \n",
    "plt.title(\"Analys: Patrik Ackell 2023\", loc = 'right')\n",
    "plt.xlabel(\"Månad och år\", fontweight =\"bold\")\n",
    "plt.ylabel(\"Procent KPIF\")\n",
    "\n",
    "fig.set_figwidth(10) \n",
    "\n",
    "plt.show()"
   ]
  },
  {
   "cell_type": "markdown",
   "id": "362b2bea-af40-4729-9bc2-59d027aa17f0",
   "metadata": {
    "tags": []
   },
   "source": [
    "### Definition:"
   ]
  },
  {
   "cell_type": "markdown",
   "id": "33f33108-30c3-4d8d-aafc-8d7838c47a7a",
   "metadata": {},
   "source": [
    "#### Metoder för att mäta inflation\n",
    "Inflationen mäts vanligtvis genom att med hjälp av ett prisindex då man räknar ut hur prisnivån har ändrats under en 12-månadersperiod. Det vanligaste och mest kända prisindexet i Sverige är konsumentprisindex (KPI). Indexet visar hur mycket det kostar att leva i Sverige och hur denna kostnad utvecklas över tid. \n",
    "<br>\n",
    "Målet för Riksbankens penningpolitik är att inflationen ska vara 2 procent per år, mätt som den årliga procentuella förändringen i KPIF (konsumentprisindex med fast ränta). KPIF beräknas med samma data och på samma sätt som KPI, men utan att effekten av ändrade boräntor räknas med. "
   ]
  },
  {
   "cell_type": "markdown",
   "id": "869156b6-8949-459a-a1c3-3662134bbb10",
   "metadata": {},
   "source": [
    "#### KPIF\n",
    "(konsumentprisindex med fast ränta). KPIF beräknas med samma data och på samma sätt som KPI, men utan att effekten av ändrade boräntor räknas med. \n",
    "\n",
    "\n",
    "Källa: https://www.riksbank.se/sv/penningpolitik/inflationsmalet/hur-mats-inflation/"
   ]
  },
  {
   "cell_type": "markdown",
   "id": "2a4bd61e-2c86-409b-90c8-b80b8eb9ad5e",
   "metadata": {},
   "source": [
    "#### KPIXE\n",
    "Källa och mer info om KPIXE finns i PDF-format att ladda ner:    https://www.google.com/url?sa=t&rct=j&q=&esrc=s&source=web&cd=&cad=rja&uact=8&ved=2ahUKEwjx-YXQ0raCAxWQa_EDHW3sC3MQFnoECBkQAQ&url=https%3A%2F%2Fwww.konj.se%2Fdownload%2F18.130dc716150d75fadf771c3%2F1446730399510%2FSkillnaden-mellan-KPI-och-KPIX.pdf&usg=AOvVaw0nlkDJFLrVhni6y1ajKxk8&opi=89978449"
   ]
  },
  {
   "cell_type": "markdown",
   "id": "25e5b3fb-ac02-4dd8-8813-ff6de954d9be",
   "metadata": {},
   "source": [
    "#### Skillnaden mellan KPI och KPIX\n",
    "Den långsiktiga skillnaden mellan inflationstakten mätt som KPI respektive KPIX och antas i allmänhet vara försumbar. \n",
    "<br>\n",
    "Denna fördjupning visar att det finns skäl för att skillnaden på längre sikt är omkring 0,3 procentenheter. \n",
    "<br>\n",
    "Om det råder osäkerhet om vilket inflationsmått som Riksbanken styr mot 2 procent, kan det påverka hushållens och företagens inflationsförväntningar.\n",
    "\n",
    "\n",
    "Sedan 1993 har målet för penningpolitiken i Sverige varit att upprätthålla ett fast penningvärde. Riksbanken har preciserat målet som att den årliga ökningen av konsumentprisindex (KPI) ska vara 2 procent. \n",
    "<br>\n",
    "I praktiken vägleds emellertid penningpolitiken av utvecklingen av det underliggande inflationsmåttet KPIX (tidigare UND1X), som Riksbanken därmed givit ”en speciell status”. \n",
    "\n",
    "\n",
    "Skillnaden mellan KPI och KPIX är att det senare måttet exkluderar räntekostnader för egnahem och den direkta effekten av förändrade indirekta skatter och subventioner.\n"
   ]
  }
 ],
 "metadata": {
  "kernelspec": {
   "display_name": "Python 3 (ipykernel)",
   "language": "python",
   "name": "python3"
  },
  "language_info": {
   "codemirror_mode": {
    "name": "ipython",
    "version": 3
   },
   "file_extension": ".py",
   "mimetype": "text/x-python",
   "name": "python",
   "nbconvert_exporter": "python",
   "pygments_lexer": "ipython3",
   "version": "3.9.7"
  }
 },
 "nbformat": 4,
 "nbformat_minor": 5
}
