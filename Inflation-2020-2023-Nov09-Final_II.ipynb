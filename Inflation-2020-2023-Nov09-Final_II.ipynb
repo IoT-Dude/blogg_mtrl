{
 "cells": [
  {
   "cell_type": "markdown",
   "id": "95e11426-ab70-41f7-b629-5a0cfcbd6df3",
   "metadata": {},
   "source": [
    "# Sveriges inflation 2020 - 2023"
   ]
  },
  {
   "cell_type": "markdown",
   "id": "7f62617b-fa03-4b51-aa2c-4af99773f7d2",
   "metadata": {},
   "source": [
    "### (Inflationstakten i Sverige mätt som KPIF)\n",
    "<br>\n",
    "Version 3"
   ]
  },
  {
   "cell_type": "markdown",
   "id": "d9f636ba-0a72-4d62-bb95-0689dee33406",
   "metadata": {},
   "source": [
    "Analys: Patrik Ackell 20231109"
   ]
  },
  {
   "cell_type": "markdown",
   "id": "9762721e-5821-4e33-8862-e86475246617",
   "metadata": {},
   "source": [
    "Källor:\n",
    "<br>\n",
    "[SCB](https://www.scb.se/dokumentation/)\n",
    "<br>\n",
    "[Morning star](https://www.morningstar.se/se/tools/default.aspx)"
   ]
  },
  {
   "cell_type": "markdown",
   "id": "40ac5257-a40c-48b3-aa4f-0eaf01e45631",
   "metadata": {
    "tags": []
   },
   "source": [
    "## Inflationens påverkan på matbutikernas varor\n",
    "Det som intresserar mig är hur matpriserna har ändrats under åren som gått mellan 2020 och 2023. \n",
    "<br>\n",
    "Enligt statistik från SCB har inflationen (mätt som KPIF) påverkats av de höga elpriserna - detta var den främsta orsaken till att inflationstakten ökade mellan 2020 och 2023. Och den svenska prisökningstakten föll kraftigt i augusti 2023, detta framför allt kopplat till betydligt lägre energipriser jämfört med 2022."
   ]
  },
  {
   "cell_type": "markdown",
   "id": "9333c2f7-1a01-4209-b8c2-c236d5f4d028",
   "metadata": {},
   "source": [
    "## Julen 2023 - en räntesänkning i sikte?\n",
    "De positiva inflationssiffror i Maj och september 2023  betyder dock inte säkert att Riksbanken kommer att stå över nästa förväntade räntehöjning. Så hur ser sannolikheten för en ytterligare höjning i november?"
   ]
  },
  {
   "cell_type": "markdown",
   "id": "20cfb093-647f-4eb4-9f15-5dc1726642fd",
   "metadata": {},
   "source": [
    "<i>\"Inflationen går åt rätt håll och lite snabbare än förväntat ned(åt). KPIF 4.73 och KPIXE på 7.17. Ändrar inget för Riksbankens kommande möte, det blir en höjning med 25 bps. Men vi går åt rätt håll ...    ... minskar risken något för en november höjning men det blir 25bps då med\"</i>, säger Mattias Persson, chefsekonom och global chef för makroanalys på Swedbank på X, tidigare Twitter."
   ]
  },
  {
   "cell_type": "code",
   "execution_count": 1,
   "id": "075769bd-5937-4028-962a-d49bdf6e6ddf",
   "metadata": {},
   "outputs": [
    {
     "data": {
      "image/png": "[encoded data removed]",
      "text/plain": [
       "<Figure size 720x432 with 1 Axes>"
      ]
     },
     "metadata": {
      "needs_background": "light"
     },
     "output_type": "display_data"
    }
   ],
   "source": [
    "# Sveriges inflation sedan 2020 i KPIF\n",
    "\n",
    "import matplotlib.pyplot as plt \n",
    "from matplotlib.figure import Figure \n",
    "import numpy as np \n",
    "\n",
    "fig = plt.figure(figsize =(7, 6)) \n",
    "ax = fig.add_axes([0.1, 0.1, 0.8, 0.8]) \n",
    "\n",
    "x = np.array(['Jan 20 ', 'Maj 20 ', 'Sep 20 ', 'Jan 21 ', 'Maj 21 ', 'Sep 21 ', 'Jan 22 ', 'Maj 22 ', 'Sep 22 ', 'Jan 23 ', 'Maj 23 ', 'Sep 23 '])\n",
    "y = np.array([1.2, -0.4, 0.4, 1.6, 1.8, 2.8, 3.9, 8.5, 9.3, 9.3 , 6.7, 6.5])\n",
    "ax.plot(x, y) \n",
    "\n",
    "fig.suptitle(\"Sveriges inflation sedan 2020 i KPIF\\n\\n\", fontweight =\"bold\") \n",
    "plt.title(\"Analys: Patrik Ackell 2023\", loc = 'right')\n",
    "plt.xlabel(\"Månad och år\", fontweight =\"bold\")\n",
    "plt.ylabel(\"Procent KPIF\")\n",
    "\n",
    "fig.set_figwidth(10) \n",
    "\n",
    "plt.show()"
   ]
  },
  {
   "cell_type": "markdown",
   "id": "17ff4fd9-d44a-48e5-b1ef-934213ddf695",
   "metadata": {},
   "source": [
    "### Definition:"
   ]
  },
  {
   "cell_type": "markdown",
   "id": "17e58c5d-3e66-4d7e-bfc1-13d8b31e2167",
   "metadata": {},
   "source": [
    "#### Metoder för att mäta inflation\n",
    "Inflationen mäts vanligtvis genom att med hjälp av ett prisindex då man räknar ut hur prisnivån har ändrats under en 12-månadersperiod. Det vanligaste och mest kända prisindexet i Sverige är konsumentprisindex (KPI). Indexet visar hur mycket det kostar att leva i Sverige och hur denna kostnad utvecklas över tid. \n",
    "<br>\n",
    "Målet för Riksbankens penningpolitik är att inflationen ska vara 2 procent per år, mätt som den årliga procentuella förändringen i KPIF (konsumentprisindex med fast ränta). KPIF beräknas med samma data och på samma sätt som KPI, men utan att effekten av ändrade boräntor räknas med. "
   ]
  },
  {
   "cell_type": "markdown",
   "id": "8431fd8d-d145-49a4-9c22-69d9740cb303",
   "metadata": {},
   "source": [
    "#### KPIF\n",
    "(konsumentprisindex med fast ränta). KPIF beräknas med samma data och på samma sätt som KPI, men utan att effekten av ändrade boräntor räknas med. \n",
    "\n",
    "\n",
    "Källa: https://www.riksbank.se/sv/penningpolitik/inflationsmalet/hur-mats-inflation/"
   ]
  },
  {
   "cell_type": "markdown",
   "id": "2e51f145-28f0-4fd9-bc1b-a4a742be125a",
   "metadata": {},
   "source": [
    "#### KPIXE\n",
    "Källa och mer info om KPIXE finns i PDF-format att ladda ner:    https://www.google.com/url?sa=t&rct=j&q=&esrc=s&source=web&cd=&cad=rja&uact=8&ved=2ahUKEwjx-YXQ0raCAxWQa_EDHW3sC3MQFnoECBkQAQ&url=https%3A%2F%2Fwww.konj.se%2Fdownload%2F18.130dc716150d75fadf771c3%2F1446730399510%2FSkillnaden-mellan-KPI-och-KPIX.pdf&usg=AOvVaw0nlkDJFLrVhni6y1ajKxk8&opi=89978449"
   ]
  },
  {
   "cell_type": "markdown",
   "id": "4cf961e4-eeaf-4f42-95cb-c4e6425f59d6",
   "metadata": {},
   "source": [
    "#### Skillnaden mellan KPI och KPIX\n",
    "Den långsiktiga skillnaden mellan inflationstakten mätt som KPI respektive KPIX och antas i allmänhet vara försumbar. \n",
    "<br>\n",
    "Denna fördjupning visar att det finns skäl för att skillnaden på längre sikt är omkring 0,3 procentenheter. \n",
    "<br>\n",
    "Om det råder osäkerhet om vilket inflationsmått som Riksbanken styr mot 2 procent, kan det påverka hushållens och företagens inflationsförväntningar.\n",
    "\n",
    "\n",
    "Sedan 1993 har målet för penningpolitiken i Sverige varit att upprätthålla ett fast penningvärde. Riksbanken har preciserat målet som att den årliga ökningen av konsumentprisindex (KPI) ska vara 2 procent. \n",
    "<br>\n",
    "I praktiken vägleds emellertid penningpolitiken av utvecklingen av det underliggande inflationsmåttet KPIX (tidigare UND1X), som Riksbanken därmed givit ”en speciell status”. \n",
    "\n",
    "\n",
    "Skillnaden mellan KPI och KPIX är att det senare måttet exkluderar räntekostnader för egnahem och den direkta effekten av förändrade indirekta skatter och subventioner.\n"
   ]
  }
 ],
 "metadata": {
  "kernelspec": {
   "display_name": "Python 3 (ipykernel)",
   "language": "python",
   "name": "python3"
  },
  "language_info": {
   "codemirror_mode": {
    "name": "ipython",
    "version": 3
   },
   "file_extension": ".py",
   "mimetype": "text/x-python",
   "name": "python",
   "nbconvert_exporter": "python",
   "pygments_lexer": "ipython3",
   "version": "3.9.7"
  }
 },
 "nbformat": 4,
 "nbformat_minor": 5
}
